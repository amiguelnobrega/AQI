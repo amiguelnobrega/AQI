{
  "nbformat": 4,
  "nbformat_minor": 0,
  "metadata": {
    "colab": {
      "provenance": [],
      "authorship_tag": "ABX9TyNPGYM+2um8zF1zw6zYk1dA",
      "include_colab_link": true
    },
    "kernelspec": {
      "name": "python3",
      "display_name": "Python 3"
    },
    "language_info": {
      "name": "python"
    }
  },
  "cells": [
    {
      "cell_type": "markdown",
      "metadata": {
        "id": "view-in-github",
        "colab_type": "text"
      },
      "source": [
        "<a href=\"https://colab.research.google.com/github/amiguelnobrega/AQI/blob/main/aqi3.ipynb\" target=\"_parent\"><img src=\"https://colab.research.google.com/assets/colab-badge.svg\" alt=\"Open In Colab\"/></a>"
      ]
    },
    {
      "cell_type": "markdown",
      "source": [
        "#1. Imports"
      ],
      "metadata": {
        "id": "94mb9883RAIP"
      }
    },
    {
      "cell_type": "code",
      "execution_count": 1,
      "metadata": {
        "id": "Dpw7RAeiQ4G6"
      },
      "outputs": [],
      "source": [
        "# Import relevant packages.\n",
        "\n",
        "import pandas as pd\n",
        "import numpy as np"
      ]
    },
    {
      "cell_type": "code",
      "source": [
        "# Mount Google Drive in colab notebook\n",
        "\n",
        "from google.colab import drive\n",
        "drive.mount('/content/gdrive')"
      ],
      "metadata": {
        "colab": {
          "base_uri": "https://localhost:8080/"
        },
        "id": "Cb8S7WafRHie",
        "outputId": "ad80a6f7-ed37-42f7-f927-311475723898"
      },
      "execution_count": 2,
      "outputs": [
        {
          "output_type": "stream",
          "name": "stdout",
          "text": [
            "Mounted at /content/gdrive\n"
          ]
        }
      ]
    },
    {
      "cell_type": "code",
      "source": [
        "# Get .csv from gdrive\n",
        "\n",
        "aqi = pd.read_csv('/content/gdrive/Othercomputers/My MacBook Air/Estudo/Google Advance DA/Projects/AQI/c4_epa_air_quality.csv')\n",
        "print('done!')"
      ],
      "metadata": {
        "colab": {
          "base_uri": "https://localhost:8080/"
        },
        "id": "hSCBEpSqRQhi",
        "outputId": "7b9d8de7-e4be-4758-cec5-d5834150fc5a"
      },
      "execution_count": 5,
      "outputs": [
        {
          "output_type": "stream",
          "name": "stdout",
          "text": [
            "done!\n"
          ]
        }
      ]
    },
    {
      "cell_type": "markdown",
      "source": [
        "#2. Data Exploration"
      ],
      "metadata": {
        "id": "ZZ5WBOmHRVwB"
      }
    },
    {
      "cell_type": "code",
      "source": [
        "# Explore the `aqi` DataFrame.\n",
        "\n",
        "print(\"Use describe() to summarize AQI\")\n",
        "print(aqi.describe(include='all'))\n",
        "\n",
        "print(\"For a more thorough examination of observations by state use values_counts()\")\n",
        "print(aqi['state_name'].value_counts())"
      ],
      "metadata": {
        "colab": {
          "base_uri": "https://localhost:8080/"
        },
        "id": "ojQFOF9IRcd5",
        "outputId": "ed521a3c-e91d-4a59-db61-85deb1a88920"
      },
      "execution_count": 6,
      "outputs": [
        {
          "output_type": "stream",
          "name": "stdout",
          "text": [
            "Use describe() to summarize AQI\n",
            "        Unnamed: 0  date_local  state_name  county_name      city_name  \\\n",
            "count   260.000000         260         260          260            260   \n",
            "unique         NaN           1          52          149            190   \n",
            "top            NaN  2018-01-01  California  Los Angeles  Not in a city   \n",
            "freq           NaN         260          66           14             21   \n",
            "mean    129.500000         NaN         NaN          NaN            NaN   \n",
            "std      75.199734         NaN         NaN          NaN            NaN   \n",
            "min       0.000000         NaN         NaN          NaN            NaN   \n",
            "25%      64.750000         NaN         NaN          NaN            NaN   \n",
            "50%     129.500000         NaN         NaN          NaN            NaN   \n",
            "75%     194.250000         NaN         NaN          NaN            NaN   \n",
            "max     259.000000         NaN         NaN          NaN            NaN   \n",
            "\n",
            "       local_site_name   parameter_name   units_of_measure  arithmetic_mean  \\\n",
            "count              257              260                260       260.000000   \n",
            "unique             253                1                  1              NaN   \n",
            "top            Kapolei  Carbon monoxide  Parts per million              NaN   \n",
            "freq                 2              260                260              NaN   \n",
            "mean               NaN              NaN                NaN         0.403169   \n",
            "std                NaN              NaN                NaN         0.317902   \n",
            "min                NaN              NaN                NaN         0.000000   \n",
            "25%                NaN              NaN                NaN         0.200000   \n",
            "50%                NaN              NaN                NaN         0.276315   \n",
            "75%                NaN              NaN                NaN         0.516009   \n",
            "max                NaN              NaN                NaN         1.921053   \n",
            "\n",
            "               aqi  \n",
            "count   260.000000  \n",
            "unique         NaN  \n",
            "top            NaN  \n",
            "freq           NaN  \n",
            "mean      6.757692  \n",
            "std       7.061707  \n",
            "min       0.000000  \n",
            "25%       2.000000  \n",
            "50%       5.000000  \n",
            "75%       9.000000  \n",
            "max      50.000000  \n",
            "For a more thorough examination of observations by state use values_counts()\n",
            "state_name\n",
            "California              66\n",
            "Arizona                 14\n",
            "Ohio                    12\n",
            "Florida                 12\n",
            "Texas                   10\n",
            "New York                10\n",
            "Pennsylvania            10\n",
            "Michigan                 9\n",
            "Colorado                 9\n",
            "Minnesota                7\n",
            "New Jersey               6\n",
            "Indiana                  5\n",
            "North Carolina           4\n",
            "Massachusetts            4\n",
            "Maryland                 4\n",
            "Oklahoma                 4\n",
            "Virginia                 4\n",
            "Nevada                   4\n",
            "Connecticut              4\n",
            "Kentucky                 3\n",
            "Missouri                 3\n",
            "Wyoming                  3\n",
            "Iowa                     3\n",
            "Hawaii                   3\n",
            "Utah                     3\n",
            "Vermont                  3\n",
            "Illinois                 3\n",
            "New Hampshire            2\n",
            "District Of Columbia     2\n",
            "New Mexico               2\n",
            "Montana                  2\n",
            "Oregon                   2\n",
            "Alaska                   2\n",
            "Georgia                  2\n",
            "Washington               2\n",
            "Idaho                    2\n",
            "Nebraska                 2\n",
            "Rhode Island             2\n",
            "Tennessee                2\n",
            "Maine                    2\n",
            "South Carolina           1\n",
            "Puerto Rico              1\n",
            "Arkansas                 1\n",
            "Kansas                   1\n",
            "Mississippi              1\n",
            "Alabama                  1\n",
            "Louisiana                1\n",
            "Delaware                 1\n",
            "South Dakota             1\n",
            "West Virginia            1\n",
            "North Dakota             1\n",
            "Wisconsin                1\n",
            "Name: count, dtype: int64\n"
          ]
        }
      ]
    },
    {
      "cell_type": "markdown",
      "source": [
        "## Observations:\n",
        "\n",
        "- All of the sites collected data on January 1st, 2018.\n",
        "- The minimum AQI value is 0 and the maximum AQI value is 50.\n",
        "- Not all states are equally represented. California has 66 sites that reported AQI for this dataset, while states such as Delaware and Alabama have only one site that reported AQI."
      ],
      "metadata": {
        "id": "dtkg_SbiR2Bx"
      }
    },
    {
      "cell_type": "markdown",
      "source": [
        "#3. Statistical Tests"
      ],
      "metadata": {
        "id": "4SSVODELSFDt"
      }
    },
    {
      "cell_type": "code",
      "source": [
        "# Summarize the mean AQI for RRE States (Ripple Renewable Energy): `California`, `Florida`, `Michigan`, `Ohio`, `Pennsylvania`, `Texas`.\n",
        "\n",
        "# Create a list of RRE states.\n",
        "\n",
        "rre_states = ['California','Florida','Michigan','Ohio','Pennsylvania','Texas']\n",
        "\n",
        "# Subset `aqi` to only consider these states.\n",
        "\n",
        "aqi_rre = aqi[aqi['state_name'].isin(rre_states)]\n",
        "\n",
        "# Find the mean aqi for each of the RRE states.\n",
        "\n",
        "aqi_rre.groupby(['state_name']).agg({\"aqi\":\"mean\",\"state_name\":\"count\"}) #alias as aqi_rre"
      ],
      "metadata": {
        "colab": {
          "base_uri": "https://localhost:8080/",
          "height": 269
        },
        "id": "tDxLcB1HSIF1",
        "outputId": "d5400b5a-51e7-4e14-d557-459953bab8a6"
      },
      "execution_count": 7,
      "outputs": [
        {
          "output_type": "execute_result",
          "data": {
            "text/plain": [
              "                    aqi  state_name\n",
              "state_name                         \n",
              "California    12.121212          66\n",
              "Florida        5.500000          12\n",
              "Michigan       8.111111           9\n",
              "Ohio           3.333333          12\n",
              "Pennsylvania   2.900000          10\n",
              "Texas          2.700000          10"
            ],
            "text/html": [
              "\n",
              "  <div id=\"df-c4fc1e97-8e2b-4a91-980f-2512bd871e80\" class=\"colab-df-container\">\n",
              "    <div>\n",
              "<style scoped>\n",
              "    .dataframe tbody tr th:only-of-type {\n",
              "        vertical-align: middle;\n",
              "    }\n",
              "\n",
              "    .dataframe tbody tr th {\n",
              "        vertical-align: top;\n",
              "    }\n",
              "\n",
              "    .dataframe thead th {\n",
              "        text-align: right;\n",
              "    }\n",
              "</style>\n",
              "<table border=\"1\" class=\"dataframe\">\n",
              "  <thead>\n",
              "    <tr style=\"text-align: right;\">\n",
              "      <th></th>\n",
              "      <th>aqi</th>\n",
              "      <th>state_name</th>\n",
              "    </tr>\n",
              "    <tr>\n",
              "      <th>state_name</th>\n",
              "      <th></th>\n",
              "      <th></th>\n",
              "    </tr>\n",
              "  </thead>\n",
              "  <tbody>\n",
              "    <tr>\n",
              "      <th>California</th>\n",
              "      <td>12.121212</td>\n",
              "      <td>66</td>\n",
              "    </tr>\n",
              "    <tr>\n",
              "      <th>Florida</th>\n",
              "      <td>5.500000</td>\n",
              "      <td>12</td>\n",
              "    </tr>\n",
              "    <tr>\n",
              "      <th>Michigan</th>\n",
              "      <td>8.111111</td>\n",
              "      <td>9</td>\n",
              "    </tr>\n",
              "    <tr>\n",
              "      <th>Ohio</th>\n",
              "      <td>3.333333</td>\n",
              "      <td>12</td>\n",
              "    </tr>\n",
              "    <tr>\n",
              "      <th>Pennsylvania</th>\n",
              "      <td>2.900000</td>\n",
              "      <td>10</td>\n",
              "    </tr>\n",
              "    <tr>\n",
              "      <th>Texas</th>\n",
              "      <td>2.700000</td>\n",
              "      <td>10</td>\n",
              "    </tr>\n",
              "  </tbody>\n",
              "</table>\n",
              "</div>\n",
              "    <div class=\"colab-df-buttons\">\n",
              "\n",
              "  <div class=\"colab-df-container\">\n",
              "    <button class=\"colab-df-convert\" onclick=\"convertToInteractive('df-c4fc1e97-8e2b-4a91-980f-2512bd871e80')\"\n",
              "            title=\"Convert this dataframe to an interactive table.\"\n",
              "            style=\"display:none;\">\n",
              "\n",
              "  <svg xmlns=\"http://www.w3.org/2000/svg\" height=\"24px\" viewBox=\"0 -960 960 960\">\n",
              "    <path d=\"M120-120v-720h720v720H120Zm60-500h600v-160H180v160Zm220 220h160v-160H400v160Zm0 220h160v-160H400v160ZM180-400h160v-160H180v160Zm440 0h160v-160H620v160ZM180-180h160v-160H180v160Zm440 0h160v-160H620v160Z\"/>\n",
              "  </svg>\n",
              "    </button>\n",
              "\n",
              "  <style>\n",
              "    .colab-df-container {\n",
              "      display:flex;\n",
              "      gap: 12px;\n",
              "    }\n",
              "\n",
              "    .colab-df-convert {\n",
              "      background-color: #E8F0FE;\n",
              "      border: none;\n",
              "      border-radius: 50%;\n",
              "      cursor: pointer;\n",
              "      display: none;\n",
              "      fill: #1967D2;\n",
              "      height: 32px;\n",
              "      padding: 0 0 0 0;\n",
              "      width: 32px;\n",
              "    }\n",
              "\n",
              "    .colab-df-convert:hover {\n",
              "      background-color: #E2EBFA;\n",
              "      box-shadow: 0px 1px 2px rgba(60, 64, 67, 0.3), 0px 1px 3px 1px rgba(60, 64, 67, 0.15);\n",
              "      fill: #174EA6;\n",
              "    }\n",
              "\n",
              "    .colab-df-buttons div {\n",
              "      margin-bottom: 4px;\n",
              "    }\n",
              "\n",
              "    [theme=dark] .colab-df-convert {\n",
              "      background-color: #3B4455;\n",
              "      fill: #D2E3FC;\n",
              "    }\n",
              "\n",
              "    [theme=dark] .colab-df-convert:hover {\n",
              "      background-color: #434B5C;\n",
              "      box-shadow: 0px 1px 3px 1px rgba(0, 0, 0, 0.15);\n",
              "      filter: drop-shadow(0px 1px 2px rgba(0, 0, 0, 0.3));\n",
              "      fill: #FFFFFF;\n",
              "    }\n",
              "  </style>\n",
              "\n",
              "    <script>\n",
              "      const buttonEl =\n",
              "        document.querySelector('#df-c4fc1e97-8e2b-4a91-980f-2512bd871e80 button.colab-df-convert');\n",
              "      buttonEl.style.display =\n",
              "        google.colab.kernel.accessAllowed ? 'block' : 'none';\n",
              "\n",
              "      async function convertToInteractive(key) {\n",
              "        const element = document.querySelector('#df-c4fc1e97-8e2b-4a91-980f-2512bd871e80');\n",
              "        const dataTable =\n",
              "          await google.colab.kernel.invokeFunction('convertToInteractive',\n",
              "                                                    [key], {});\n",
              "        if (!dataTable) return;\n",
              "\n",
              "        const docLinkHtml = 'Like what you see? Visit the ' +\n",
              "          '<a target=\"_blank\" href=https://colab.research.google.com/notebooks/data_table.ipynb>data table notebook</a>'\n",
              "          + ' to learn more about interactive tables.';\n",
              "        element.innerHTML = '';\n",
              "        dataTable['output_type'] = 'display_data';\n",
              "        await google.colab.output.renderOutput(dataTable, element);\n",
              "        const docLink = document.createElement('div');\n",
              "        docLink.innerHTML = docLinkHtml;\n",
              "        element.appendChild(docLink);\n",
              "      }\n",
              "    </script>\n",
              "  </div>\n",
              "\n",
              "\n",
              "<div id=\"df-aac075e7-8d55-4a69-8719-8209cb77b571\">\n",
              "  <button class=\"colab-df-quickchart\" onclick=\"quickchart('df-aac075e7-8d55-4a69-8719-8209cb77b571')\"\n",
              "            title=\"Suggest charts\"\n",
              "            style=\"display:none;\">\n",
              "\n",
              "<svg xmlns=\"http://www.w3.org/2000/svg\" height=\"24px\"viewBox=\"0 0 24 24\"\n",
              "     width=\"24px\">\n",
              "    <g>\n",
              "        <path d=\"M19 3H5c-1.1 0-2 .9-2 2v14c0 1.1.9 2 2 2h14c1.1 0 2-.9 2-2V5c0-1.1-.9-2-2-2zM9 17H7v-7h2v7zm4 0h-2V7h2v10zm4 0h-2v-4h2v4z\"/>\n",
              "    </g>\n",
              "</svg>\n",
              "  </button>\n",
              "\n",
              "<style>\n",
              "  .colab-df-quickchart {\n",
              "      --bg-color: #E8F0FE;\n",
              "      --fill-color: #1967D2;\n",
              "      --hover-bg-color: #E2EBFA;\n",
              "      --hover-fill-color: #174EA6;\n",
              "      --disabled-fill-color: #AAA;\n",
              "      --disabled-bg-color: #DDD;\n",
              "  }\n",
              "\n",
              "  [theme=dark] .colab-df-quickchart {\n",
              "      --bg-color: #3B4455;\n",
              "      --fill-color: #D2E3FC;\n",
              "      --hover-bg-color: #434B5C;\n",
              "      --hover-fill-color: #FFFFFF;\n",
              "      --disabled-bg-color: #3B4455;\n",
              "      --disabled-fill-color: #666;\n",
              "  }\n",
              "\n",
              "  .colab-df-quickchart {\n",
              "    background-color: var(--bg-color);\n",
              "    border: none;\n",
              "    border-radius: 50%;\n",
              "    cursor: pointer;\n",
              "    display: none;\n",
              "    fill: var(--fill-color);\n",
              "    height: 32px;\n",
              "    padding: 0;\n",
              "    width: 32px;\n",
              "  }\n",
              "\n",
              "  .colab-df-quickchart:hover {\n",
              "    background-color: var(--hover-bg-color);\n",
              "    box-shadow: 0 1px 2px rgba(60, 64, 67, 0.3), 0 1px 3px 1px rgba(60, 64, 67, 0.15);\n",
              "    fill: var(--button-hover-fill-color);\n",
              "  }\n",
              "\n",
              "  .colab-df-quickchart-complete:disabled,\n",
              "  .colab-df-quickchart-complete:disabled:hover {\n",
              "    background-color: var(--disabled-bg-color);\n",
              "    fill: var(--disabled-fill-color);\n",
              "    box-shadow: none;\n",
              "  }\n",
              "\n",
              "  .colab-df-spinner {\n",
              "    border: 2px solid var(--fill-color);\n",
              "    border-color: transparent;\n",
              "    border-bottom-color: var(--fill-color);\n",
              "    animation:\n",
              "      spin 1s steps(1) infinite;\n",
              "  }\n",
              "\n",
              "  @keyframes spin {\n",
              "    0% {\n",
              "      border-color: transparent;\n",
              "      border-bottom-color: var(--fill-color);\n",
              "      border-left-color: var(--fill-color);\n",
              "    }\n",
              "    20% {\n",
              "      border-color: transparent;\n",
              "      border-left-color: var(--fill-color);\n",
              "      border-top-color: var(--fill-color);\n",
              "    }\n",
              "    30% {\n",
              "      border-color: transparent;\n",
              "      border-left-color: var(--fill-color);\n",
              "      border-top-color: var(--fill-color);\n",
              "      border-right-color: var(--fill-color);\n",
              "    }\n",
              "    40% {\n",
              "      border-color: transparent;\n",
              "      border-right-color: var(--fill-color);\n",
              "      border-top-color: var(--fill-color);\n",
              "    }\n",
              "    60% {\n",
              "      border-color: transparent;\n",
              "      border-right-color: var(--fill-color);\n",
              "    }\n",
              "    80% {\n",
              "      border-color: transparent;\n",
              "      border-right-color: var(--fill-color);\n",
              "      border-bottom-color: var(--fill-color);\n",
              "    }\n",
              "    90% {\n",
              "      border-color: transparent;\n",
              "      border-bottom-color: var(--fill-color);\n",
              "    }\n",
              "  }\n",
              "</style>\n",
              "\n",
              "  <script>\n",
              "    async function quickchart(key) {\n",
              "      const quickchartButtonEl =\n",
              "        document.querySelector('#' + key + ' button');\n",
              "      quickchartButtonEl.disabled = true;  // To prevent multiple clicks.\n",
              "      quickchartButtonEl.classList.add('colab-df-spinner');\n",
              "      try {\n",
              "        const charts = await google.colab.kernel.invokeFunction(\n",
              "            'suggestCharts', [key], {});\n",
              "      } catch (error) {\n",
              "        console.error('Error during call to suggestCharts:', error);\n",
              "      }\n",
              "      quickchartButtonEl.classList.remove('colab-df-spinner');\n",
              "      quickchartButtonEl.classList.add('colab-df-quickchart-complete');\n",
              "    }\n",
              "    (() => {\n",
              "      let quickchartButtonEl =\n",
              "        document.querySelector('#df-aac075e7-8d55-4a69-8719-8209cb77b571 button');\n",
              "      quickchartButtonEl.style.display =\n",
              "        google.colab.kernel.accessAllowed ? 'block' : 'none';\n",
              "    })();\n",
              "  </script>\n",
              "</div>\n",
              "    </div>\n",
              "  </div>\n"
            ],
            "application/vnd.google.colaboratory.intrinsic+json": {
              "type": "dataframe",
              "repr_error": "cannot insert state_name, already exists"
            }
          },
          "metadata": {},
          "execution_count": 7
        }
      ]
    },
    {
      "cell_type": "markdown",
      "source": [
        "###Construct a boxplot visualization for the AQI of these states"
      ],
      "metadata": {
        "id": "kYLXXNS5UotC"
      }
    },
    {
      "cell_type": "code",
      "source": [
        "# Import seaborn as sns.\n",
        "\n",
        "import seaborn as sns"
      ],
      "metadata": {
        "id": "p6sRNo9tUsu-"
      },
      "execution_count": 8,
      "outputs": []
    },
    {
      "cell_type": "code",
      "source": [
        "# Create an in-line visualization showing the distribution of aqi by state_nam\n",
        "\n",
        "sns.boxplot(x=aqi_rre[\"state_name\"],y=aqi_rre[\"aqi\"])"
      ],
      "metadata": {
        "colab": {
          "base_uri": "https://localhost:8080/",
          "height": 466
        },
        "id": "xZi5rcV-XXGL",
        "outputId": "f5c399b5-7705-4368-87f9-6b1fc04fef46"
      },
      "execution_count": 12,
      "outputs": [
        {
          "output_type": "execute_result",
          "data": {
            "text/plain": [
              "<Axes: xlabel='state_name', ylabel='aqi'>"
            ]
          },
          "metadata": {},
          "execution_count": 12
        },
        {
          "output_type": "display_data",
          "data": {
            "text/plain": [
              "<Figure size 640x480 with 1 Axes>"
            ],
            "image/png": "[encoded data removed]"
          },
          "metadata": {}
        }
      ]
    },
    {
      "cell_type": "markdown",
      "source": [
        "### Construct a confidence interval for the RRE state with the highest mean AQI\n",
        "\n",
        "Four-step process for constructing a confidence interval:\n",
        "\n",
        "1.   Identify a sample statistic.\n",
        "2.   Choose a confidence level.\n",
        "3.   Find the margin of error.\n",
        "4.   Calculate the interval.\n"
      ],
      "metadata": {
        "id": "DjXlJ1XcX9DA"
      }
    },
    {
      "cell_type": "code",
      "source": [
        "# Construct sample statistic\n",
        "\n",
        "aqi_ca = aqi[aqi['state_name']=='California']\n",
        "\n",
        "sample_mean = aqi_ca['aqi'].mean()\n",
        "sample_mean"
      ],
      "metadata": {
        "colab": {
          "base_uri": "https://localhost:8080/"
        },
        "id": "wLzfpUHwYJA8",
        "outputId": "fcc1508d-1210-483e-e124-78de737547b4"
      },
      "execution_count": 13,
      "outputs": [
        {
          "output_type": "execute_result",
          "data": {
            "text/plain": [
              "12.121212121212121"
            ]
          },
          "metadata": {},
          "execution_count": 13
        }
      ]
    },
    {
      "cell_type": "code",
      "source": [
        "# Choose confidence level\n",
        "\n",
        "confidence_level = 0.95\n",
        "confidence_level"
      ],
      "metadata": {
        "id": "-RvjcjTbYpWl"
      },
      "execution_count": null,
      "outputs": []
    },
    {
      "cell_type": "markdown",
      "source": [
        "### Find the margin of error (ME)\n",
        "\n",
        "**margin of error = z * standard error**, where z is the appropriate z-value for the given confidence level. To calculate the margin of error:\n",
        "\n",
        "- Find the z-value.\n",
        "- Find the approximate z for common confidence levels.\n",
        "- Calculate the **standard error** estimate.\n",
        "\n",
        "| Confidence Level | Z Score |\n",
        "| --- | --- |\n",
        "| 90% | 1.65 |\n",
        "| 95% | 1.96 |\n",
        "| 99% | 2.58 |"
      ],
      "metadata": {
        "id": "N_U8Ra_KYvdS"
      }
    },
    {
      "cell_type": "code",
      "source": [
        "# Calculate the margin of error.\n",
        "\n",
        "# Begin by identifying the z associated with the chosen confidence level.\n",
        "\n",
        "z_value = 1.96\n",
        "\n",
        "# Calculate the standard error.\n",
        "\n",
        "standard_error = aqi_ca['aqi'].std() / np.sqrt(aqi_ca.shape[0])\n",
        "print(\"standard error:\")\n",
        "print(standard_error)\n",
        "\n",
        "# Lastly, use the preceding result to calculate the margin of error.\n",
        "\n",
        "margin_of_error = standard_error * z_value\n",
        "print(\"margin of error:\")\n",
        "print(margin_of_error)"
      ],
      "metadata": {
        "colab": {
          "base_uri": "https://localhost:8080/"
        },
        "id": "qN2t9MgHZDXv",
        "outputId": "a153679b-cea4-43f8-b0bb-974b5578717e"
      },
      "execution_count": 14,
      "outputs": [
        {
          "output_type": "stream",
          "name": "stdout",
          "text": [
            "standard error:\n",
            "0.8987209641127412\n",
            "margin of error:\n",
            "1.7614930896609726\n"
          ]
        }
      ]
    },
    {
      "cell_type": "code",
      "source": [
        "# Calculate the confidence interval (upper and lower limits).\n",
        "\n",
        "upper_ci_limit = sample_mean + margin_of_error\n",
        "lower_ci_limit = sample_mean - margin_of_error\n",
        "(lower_ci_limit, upper_ci_limit)"
      ],
      "metadata": {
        "colab": {
          "base_uri": "https://localhost:8080/"
        },
        "id": "gqSad9_HZPmC",
        "outputId": "506ecd9a-5119-4ac7-c9a1-afadf91dd35f"
      },
      "execution_count": 17,
      "outputs": [
        {
          "output_type": "execute_result",
          "data": {
            "text/plain": [
              "(10.359719031551148, 13.882705210873095)"
            ]
          },
          "metadata": {},
          "execution_count": 17
        }
      ]
    },
    {
      "cell_type": "markdown",
      "source": [
        "#4. Results and Evaluation"
      ],
      "metadata": {
        "id": "Y1kJYuF1ZbYm"
      }
    },
    {
      "cell_type": "markdown",
      "source": [
        "**Key takeaways:**\n",
        "\n",
        "* Based on the mean AQI for RRE states, California and Michigan were most likely to have experienced a mean AQI above 10.\n",
        "* Constructing a confidence interval allowed to estimate the sample mean AQI with a certain degree of confidence."
      ],
      "metadata": {
        "id": "xJJZgK0YnVCM"
      }
    }
  ]
}