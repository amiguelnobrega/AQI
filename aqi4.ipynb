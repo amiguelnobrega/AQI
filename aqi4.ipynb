{
  "nbformat": 4,
  "nbformat_minor": 0,
  "metadata": {
    "colab": {
      "provenance": [],
      "authorship_tag": "ABX9TyM5ryhmHVmPVpcEKKAWL7I5",
      "include_colab_link": true
    },
    "kernelspec": {
      "name": "python3",
      "display_name": "Python 3"
    },
    "language_info": {
      "name": "python"
    }
  },
  "cells": [
    {
      "cell_type": "markdown",
      "metadata": {
        "id": "view-in-github",
        "colab_type": "text"
      },
      "source": [
        "<a href=\"https://colab.research.google.com/github/amiguelnobrega/AQI/blob/main/aqi4.ipynb\" target=\"_parent\"><img src=\"https://colab.research.google.com/assets/colab-badge.svg\" alt=\"Open In Colab\"/></a>"
      ]
    },
    {
      "cell_type": "markdown",
      "source": [
        "#1. Imports"
      ],
      "metadata": {
        "id": "KiX7xbaXoDqt"
      }
    },
    {
      "cell_type": "code",
      "execution_count": 1,
      "metadata": {
        "id": "fIqeX-5Yn_i2"
      },
      "outputs": [],
      "source": [
        "# Import relevant packages\n",
        "\n",
        "import pandas as pd\n",
        "import numpy as np\n",
        "from scipy import stats"
      ]
    },
    {
      "cell_type": "code",
      "source": [
        "# Mount Google Drive in colab notebook\n",
        "\n",
        "from google.colab import drive\n",
        "drive.mount('/content/gdrive')"
      ],
      "metadata": {
        "colab": {
          "base_uri": "https://localhost:8080/"
        },
        "id": "cUakAJ59oWkl",
        "outputId": "b3626d63-834c-4989-d357-01d53924c2b2"
      },
      "execution_count": 2,
      "outputs": [
        {
          "output_type": "stream",
          "name": "stdout",
          "text": [
            "Mounted at /content/gdrive\n"
          ]
        }
      ]
    },
    {
      "cell_type": "code",
      "source": [
        "# Get .csv from gdrive\n",
        "\n",
        "aqi = pd.read_csv('/content/gdrive/Othercomputers/My MacBook Air/Estudo/Google Advance DA/Projects/AQI/c4_epa_air_quality.csv')\n",
        "print('done!')"
      ],
      "metadata": {
        "colab": {
          "base_uri": "https://localhost:8080/"
        },
        "id": "onqiOi09obAV",
        "outputId": "56d17b94-6574-43bd-cb16-332894d3ef29"
      },
      "execution_count": 3,
      "outputs": [
        {
          "output_type": "stream",
          "name": "stdout",
          "text": [
            "done!\n"
          ]
        }
      ]
    },
    {
      "cell_type": "markdown",
      "source": [
        "#2. Data Exploration"
      ],
      "metadata": {
        "id": "AkK-mU0Lofsl"
      }
    },
    {
      "cell_type": "code",
      "source": [
        "# Explore the AQI dataframe\n",
        "\n",
        "print(\"Use head() to show a sample of data\")\n",
        "print(aqi.head())\n",
        "\n",
        "print(\"Use describe() to summarize AQI\")\n",
        "print(aqi.describe(include='all'))\n",
        "\n",
        "print(\"For a more thorough examination of observations by state use values_counts()\")\n",
        "print(aqi['state_name'].value_counts())\n",
        "\n",
        "print('for a more')"
      ],
      "metadata": {
        "colab": {
          "base_uri": "https://localhost:8080/"
        },
        "id": "cpurNsozokvl",
        "outputId": "9afefb0e-3ff4-405c-d4f3-f3b1e4fc83de"
      },
      "execution_count": 4,
      "outputs": [
        {
          "output_type": "stream",
          "name": "stdout",
          "text": [
            "Use head() to show a sample of data\n",
            "   Unnamed: 0  date_local    state_name   county_name      city_name  \\\n",
            "0           0  2018-01-01       Arizona      Maricopa        Buckeye   \n",
            "1           1  2018-01-01          Ohio       Belmont      Shadyside   \n",
            "2           2  2018-01-01       Wyoming         Teton  Not in a city   \n",
            "3           3  2018-01-01  Pennsylvania  Philadelphia   Philadelphia   \n",
            "4           4  2018-01-01          Iowa          Polk     Des Moines   \n",
            "\n",
            "                                     local_site_name   parameter_name  \\\n",
            "0                                            BUCKEYE  Carbon monoxide   \n",
            "1                                          Shadyside  Carbon monoxide   \n",
            "2  Yellowstone National Park - Old Faithful Snow ...  Carbon monoxide   \n",
            "3                             North East Waste (NEW)  Carbon monoxide   \n",
            "4                                          CARPENTER  Carbon monoxide   \n",
            "\n",
            "    units_of_measure  arithmetic_mean  aqi  \n",
            "0  Parts per million         0.473684    7  \n",
            "1  Parts per million         0.263158    5  \n",
            "2  Parts per million         0.111111    2  \n",
            "3  Parts per million         0.300000    3  \n",
            "4  Parts per million         0.215789    3  \n",
            "Use describe() to summarize AQI\n",
            "        Unnamed: 0  date_local  state_name  county_name      city_name  \\\n",
            "count   260.000000         260         260          260            260   \n",
            "unique         NaN           1          52          149            190   \n",
            "top            NaN  2018-01-01  California  Los Angeles  Not in a city   \n",
            "freq           NaN         260          66           14             21   \n",
            "mean    129.500000         NaN         NaN          NaN            NaN   \n",
            "std      75.199734         NaN         NaN          NaN            NaN   \n",
            "min       0.000000         NaN         NaN          NaN            NaN   \n",
            "25%      64.750000         NaN         NaN          NaN            NaN   \n",
            "50%     129.500000         NaN         NaN          NaN            NaN   \n",
            "75%     194.250000         NaN         NaN          NaN            NaN   \n",
            "max     259.000000         NaN         NaN          NaN            NaN   \n",
            "\n",
            "       local_site_name   parameter_name   units_of_measure  arithmetic_mean  \\\n",
            "count              257              260                260       260.000000   \n",
            "unique             253                1                  1              NaN   \n",
            "top            Kapolei  Carbon monoxide  Parts per million              NaN   \n",
            "freq                 2              260                260              NaN   \n",
            "mean               NaN              NaN                NaN         0.403169   \n",
            "std                NaN              NaN                NaN         0.317902   \n",
            "min                NaN              NaN                NaN         0.000000   \n",
            "25%                NaN              NaN                NaN         0.200000   \n",
            "50%                NaN              NaN                NaN         0.276315   \n",
            "75%                NaN              NaN                NaN         0.516009   \n",
            "max                NaN              NaN                NaN         1.921053   \n",
            "\n",
            "               aqi  \n",
            "count   260.000000  \n",
            "unique         NaN  \n",
            "top            NaN  \n",
            "freq           NaN  \n",
            "mean      6.757692  \n",
            "std       7.061707  \n",
            "min       0.000000  \n",
            "25%       2.000000  \n",
            "50%       5.000000  \n",
            "75%       9.000000  \n",
            "max      50.000000  \n",
            "For a more thorough examination of observations by state use values_counts()\n",
            "state_name\n",
            "California              66\n",
            "Arizona                 14\n",
            "Ohio                    12\n",
            "Florida                 12\n",
            "Texas                   10\n",
            "New York                10\n",
            "Pennsylvania            10\n",
            "Michigan                 9\n",
            "Colorado                 9\n",
            "Minnesota                7\n",
            "New Jersey               6\n",
            "Indiana                  5\n",
            "North Carolina           4\n",
            "Massachusetts            4\n",
            "Maryland                 4\n",
            "Oklahoma                 4\n",
            "Virginia                 4\n",
            "Nevada                   4\n",
            "Connecticut              4\n",
            "Kentucky                 3\n",
            "Missouri                 3\n",
            "Wyoming                  3\n",
            "Iowa                     3\n",
            "Hawaii                   3\n",
            "Utah                     3\n",
            "Vermont                  3\n",
            "Illinois                 3\n",
            "New Hampshire            2\n",
            "District Of Columbia     2\n",
            "New Mexico               2\n",
            "Montana                  2\n",
            "Oregon                   2\n",
            "Alaska                   2\n",
            "Georgia                  2\n",
            "Washington               2\n",
            "Idaho                    2\n",
            "Nebraska                 2\n",
            "Rhode Island             2\n",
            "Tennessee                2\n",
            "Maine                    2\n",
            "South Carolina           1\n",
            "Puerto Rico              1\n",
            "Arkansas                 1\n",
            "Kansas                   1\n",
            "Mississippi              1\n",
            "Alabama                  1\n",
            "Louisiana                1\n",
            "Delaware                 1\n",
            "South Dakota             1\n",
            "West Virginia            1\n",
            "North Dakota             1\n",
            "Wisconsin                1\n",
            "Name: count, dtype: int64\n",
            "for a more\n"
          ]
        }
      ]
    },
    {
      "cell_type": "markdown",
      "source": [
        "#3. Statistical tests"
      ],
      "metadata": {
        "id": "oaHsjFiDp-cD"
      }
    },
    {
      "cell_type": "markdown",
      "source": [
        "* Is the mean AQI in Los Angeles County is statistically different from the rest of California?\n",
        "* Does New York have a lower AQI than Ohio?\n",
        "\n",
        "**Notes:**\n",
        "1. For this analysis, we will default to a 5% level of significance.\n",
        "2. Throughout this exercise, for two-sample t-tests, we will use Welch's t-test (i.e., setting the `equal_var` parameter to `False` in `scipy.stats.ttest_ind()`). This will account for the possibly unequal variances between the two groups in the comparison."
      ],
      "metadata": {
        "id": "dMkSIVs7qB_2"
      }
    },
    {
      "cell_type": "markdown",
      "source": [
        "###Steps to conduct hypothesis testing (a/b testing)\n",
        "\n",
        "1. Formulate the null hypothesis and the alternative hypothesis.<br>\n",
        "2. Set the significance level.<br>\n",
        "3. Determine the appropriate test procedure.<br>\n",
        "4. Compute the p-value.<br>\n",
        "5. Interpret results."
      ],
      "metadata": {
        "id": "u2QvV2ZjqbR3"
      }
    },
    {
      "cell_type": "markdown",
      "source": [
        "## Hypothesis 1: Is the mean AQI in Los Angeles County statistically different from the rest of California."
      ],
      "metadata": {
        "id": "lRRTIi_3qzso"
      }
    },
    {
      "cell_type": "markdown",
      "source": [
        "#### 1. Formulate the null and alternative hypotheses:\n",
        "\n"
      ],
      "metadata": {
        "id": "ocEWL5WctEEG"
      }
    },
    {
      "cell_type": "markdown",
      "source": [
        "*   $H_0$: There is no difference in the mean AQI between Los Angeles County and the rest of California.\n",
        "*   $H_A$: There is a difference in the mean AQI between Los Angeles County and the rest of California."
      ],
      "metadata": {
        "id": "hBh0p-cE4KID"
      }
    },
    {
      "cell_type": "code",
      "source": [
        "# Create dataframes for each sample being compared in the test\n",
        "\n",
        "ca_la = aqi[aqi['county_name']=='Los Angeles']\n",
        "ca_other = aqi[(aqi['state_name']=='California') & (aqi['county_name']!='Los Angeles')]"
      ],
      "metadata": {
        "id": "R4aNlzlw7OSa"
      },
      "execution_count": 13,
      "outputs": []
    },
    {
      "cell_type": "markdown",
      "source": [
        "####2. Set Significance Level\n",
        "\n"
      ],
      "metadata": {
        "id": "EaIV7QiYtnxi"
      }
    },
    {
      "cell_type": "code",
      "source": [
        "# For this analysis, the significance level is 5%\n",
        "\n",
        "significance_level = 0.05\n",
        "significance_level"
      ],
      "metadata": {
        "colab": {
          "base_uri": "https://localhost:8080/"
        },
        "id": "qUNRnNAItM9n",
        "outputId": "3266824c-8153-4a3b-edb1-19dca7581107"
      },
      "execution_count": 8,
      "outputs": [
        {
          "output_type": "execute_result",
          "data": {
            "text/plain": [
              "0.05"
            ]
          },
          "metadata": {},
          "execution_count": 8
        }
      ]
    },
    {
      "cell_type": "markdown",
      "source": [
        "####3. Determine the appropriate test procedure:"
      ],
      "metadata": {
        "id": "EJJwcKN0tUCM"
      }
    },
    {
      "cell_type": "markdown",
      "source": [
        "* Two sample T-test, since we are comparing the sample means between two independent samples."
      ],
      "metadata": {
        "id": "_Qw-JR2X6XLl"
      }
    },
    {
      "cell_type": "markdown",
      "source": [
        "#### 4. Compute P-value"
      ],
      "metadata": {
        "id": "Yn5RdFgBtg8i"
      }
    },
    {
      "cell_type": "code",
      "source": [
        "# Compute p-value\n",
        "\n",
        "stats.ttest_ind(a=ca_la['aqi'], b=ca_other['aqi'], equal_var=False)"
      ],
      "metadata": {
        "colab": {
          "base_uri": "https://localhost:8080/"
        },
        "id": "myk60syNtUW1",
        "outputId": "9240eb31-053d-4118-ffd6-6bf066154aa8"
      },
      "execution_count": 9,
      "outputs": [
        {
          "output_type": "execute_result",
          "data": {
            "text/plain": [
              "TtestResult(statistic=2.1107010796372014, pvalue=0.049839056842410995, df=17.08246830361151)"
            ]
          },
          "metadata": {},
          "execution_count": 9
        }
      ]
    },
    {
      "cell_type": "markdown",
      "source": [
        "####5. Interpretation\n",
        "\n"
      ],
      "metadata": {
        "id": "F-3WktzfuElp"
      }
    },
    {
      "cell_type": "markdown",
      "source": [
        "* With the p-value (0.049) being less than 0.05 (as your significance level is 5%), we reject the null hypothesis in favor of the alternative hypothesis."
      ],
      "metadata": {
        "id": "9TBPUmW56bs8"
      }
    },
    {
      "cell_type": "markdown",
      "source": [
        "## Hypothesis 2: Does New York have a lower AQI than Ohio?\n",
        "\n",
        "\n"
      ],
      "metadata": {
        "id": "lEVJZGt936bv"
      }
    },
    {
      "cell_type": "markdown",
      "source": [
        "#### 1. Formulate the null and alternative hypotheses:\n",
        "\n"
      ],
      "metadata": {
        "id": "TMm6kXaj4b7u"
      }
    },
    {
      "cell_type": "markdown",
      "source": [
        "*   $H_0$: The mean AQI of New York is greater than or equal to that of Ohio.\n",
        "*   $H_A$: The mean AQI of New York is **below** that of Ohio."
      ],
      "metadata": {
        "id": "WFQ6fOKh4iS-"
      }
    },
    {
      "cell_type": "code",
      "source": [
        "# Create dataframes for each sample being compared in the test\n",
        "\n",
        "ny = aqi[aqi['state_name']=='New York']\n",
        "ohio = aqi[aqi['state_name']=='Ohio']"
      ],
      "metadata": {
        "id": "PxUsqTv95DDD"
      },
      "execution_count": 11,
      "outputs": []
    },
    {
      "cell_type": "markdown",
      "source": [
        "####2. Set Significance Level\n"
      ],
      "metadata": {
        "id": "gR3GyJJ-4jNO"
      }
    },
    {
      "cell_type": "markdown",
      "source": [
        "\n",
        "* Significance Level (remains at 5%)"
      ],
      "metadata": {
        "id": "CodM3rbI67Jo"
      }
    },
    {
      "cell_type": "markdown",
      "source": [
        "#### 3. Determine the appropriate test procedure:"
      ],
      "metadata": {
        "id": "3WKZEWbI6hxE"
      }
    },
    {
      "cell_type": "markdown",
      "source": [
        "* We will utilize a two-sample 𝑡-test, since we are comparing the sample means between two independent samples in one direction."
      ],
      "metadata": {
        "id": "UglwPekn6pJL"
      }
    },
    {
      "cell_type": "markdown",
      "source": [
        "#### 4. Compute P-value"
      ],
      "metadata": {
        "id": "j1xT4zMT40Hc"
      }
    },
    {
      "cell_type": "code",
      "source": [
        "# Compute p-value\n",
        "\n",
        "tstat, pvalue = stats.ttest_ind(a=ny['aqi'], b=ohio['aqi'], alternative='less', equal_var=False)\n",
        "print(tstat)\n",
        "print(pvalue)"
      ],
      "metadata": {
        "colab": {
          "base_uri": "https://localhost:8080/"
        },
        "id": "EzLH-fTH41Gk",
        "outputId": "89f3e743-bc7b-40c6-954d-795e82fc0dd8"
      },
      "execution_count": 12,
      "outputs": [
        {
          "output_type": "stream",
          "name": "stdout",
          "text": [
            "-2.025951038880333\n",
            "0.03044650269193468\n"
          ]
        }
      ]
    },
    {
      "cell_type": "markdown",
      "source": [
        "####5. Interpretation\n"
      ],
      "metadata": {
        "id": "hXH49k_35Or_"
      }
    },
    {
      "cell_type": "markdown",
      "source": [
        "* With a p-value (0.030) of less than 0.05 (as the significance level is 5%) and a t-statistic < 0 (-2.036), **reject the null hypothesis in favor of the alternative hypothesis**.\n",
        "\n",
        "* Therefore, we conclude at the 5% significance level that New York has a lower mean AQI than Ohio."
      ],
      "metadata": {
        "id": "ixOQ_ETf5Qiu"
      }
    },
    {
      "cell_type": "markdown",
      "source": [
        "# 4. Results and Evaluation"
      ],
      "metadata": {
        "id": "vMKPNxNF5jdX"
      }
    },
    {
      "cell_type": "markdown",
      "source": [
        "* The results indicated that the AQI in Los Angeles County was in fact different from the rest of California.\n",
        "\n",
        "* Using a 5% significance level, you can conclude that New York has a lower AQI than Ohio based on the results."
      ],
      "metadata": {
        "id": "tMDuHuH25ocy"
      }
    },
    {
      "cell_type": "markdown",
      "source": [
        "###Conclusion"
      ],
      "metadata": {
        "id": "ge3Z_3rz5yZX"
      }
    },
    {
      "cell_type": "markdown",
      "source": [
        "* Even with small sample sizes, the variation within the data is enough to allow to make statistically significant conclusions.\n",
        "* We identified at the 5% significance level that the Los Angeles mean AQI was stastitically different from the rest of California, and that New York does have a lower mean AQI than Ohio."
      ],
      "metadata": {
        "id": "A_a7aYHj50EQ"
      }
    }
  ]
}